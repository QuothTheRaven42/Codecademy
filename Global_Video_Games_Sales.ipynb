{
  "nbformat": 4,
  "nbformat_minor": 0,
  "metadata": {
    "kernelspec": {
      "name": "python3",
      "display_name": "Python 3",
      "language": "python"
    },
    "language_info": {
      "name": "python",
      "version": "3.7.6",
      "mimetype": "text/x-python",
      "codemirror_mode": {
        "name": "ipython",
        "version": 3
      },
      "pygments_lexer": "ipython3",
      "nbconvert_exporter": "python",
      "file_extension": ".py"
    },
    "colab": {
      "name": "Global_Video_Games_Sales.ipynb",
      "provenance": [],
      "include_colab_link": true
    }
  },
  "cells": [
    {
      "cell_type": "markdown",
      "metadata": {
        "id": "view-in-github",
        "colab_type": "text"
      },
      "source": [
        "<a href=\"https://colab.research.google.com/github/QuothTheRaven42/small_projects/blob/master/Global_Video_Games_Sales.ipynb\" target=\"_parent\"><img src=\"https://colab.research.google.com/assets/colab-badge.svg\" alt=\"Open In Colab\"/></a>"
      ]
    },
    {
      "cell_type": "code",
      "metadata": {
        "_uuid": "8f2839f25d086af736a60e9eeb907d3b93b6e0e5",
        "_cell_guid": "b1076dfc-b9ad-4769-8c92-a6c4dae69d19",
        "trusted": true,
        "id": "7iK4IPPUKHaB",
        "colab_type": "code",
        "colab": {},
        "outputId": "cb66b02a-799e-4681-8e07-6f633659fc62"
      },
      "source": [
        "import numpy as np\n",
        "import pandas as pd\n",
        "import matplotlib.pyplot as plt\n",
        "import seaborn as sns\n",
        "%matplotlib inline\n",
        "\n",
        "import os\n",
        "for dirname, _, filenames in os.walk('/kaggle/input'):\n",
        "    for filename in filenames:\n",
        "        print(os.path.join(dirname, filename))"
      ],
      "execution_count": null,
      "outputs": [
        {
          "output_type": "stream",
          "text": [
            "/kaggle/input/videogamesales/vgsales.csv\n"
          ],
          "name": "stdout"
        }
      ]
    },
    {
      "cell_type": "code",
      "metadata": {
        "_uuid": "d629ff2d2480ee46fbb7e2d37f6b5fab8052498a",
        "_cell_guid": "79c7e3d0-c299-4dcb-8224-4455121ee9b0",
        "trusted": true,
        "id": "2paKmfCBKHaE",
        "colab_type": "code",
        "colab": {},
        "outputId": "f489ec0c-4e88-4792-8801-a71f195036b8"
      },
      "source": [
        "df = pd.read_csv('/kaggle/input/videogamesales/vgsales.csv')\n",
        "df.head()"
      ],
      "execution_count": null,
      "outputs": [
        {
          "output_type": "execute_result",
          "data": {
            "text/plain": [
              "   Rank                      Name Platform    Year         Genre Publisher  \\\n",
              "0     1                Wii Sports      Wii  2006.0        Sports  Nintendo   \n",
              "1     2         Super Mario Bros.      NES  1985.0      Platform  Nintendo   \n",
              "2     3            Mario Kart Wii      Wii  2008.0        Racing  Nintendo   \n",
              "3     4         Wii Sports Resort      Wii  2009.0        Sports  Nintendo   \n",
              "4     5  Pokemon Red/Pokemon Blue       GB  1996.0  Role-Playing  Nintendo   \n",
              "\n",
              "   NA_Sales  EU_Sales  JP_Sales  Other_Sales  Global_Sales  \n",
              "0     41.49     29.02      3.77         8.46         82.74  \n",
              "1     29.08      3.58      6.81         0.77         40.24  \n",
              "2     15.85     12.88      3.79         3.31         35.82  \n",
              "3     15.75     11.01      3.28         2.96         33.00  \n",
              "4     11.27      8.89     10.22         1.00         31.37  "
            ],
            "text/html": [
              "<div>\n",
              "<style scoped>\n",
              "    .dataframe tbody tr th:only-of-type {\n",
              "        vertical-align: middle;\n",
              "    }\n",
              "\n",
              "    .dataframe tbody tr th {\n",
              "        vertical-align: top;\n",
              "    }\n",
              "\n",
              "    .dataframe thead th {\n",
              "        text-align: right;\n",
              "    }\n",
              "</style>\n",
              "<table border=\"1\" class=\"dataframe\">\n",
              "  <thead>\n",
              "    <tr style=\"text-align: right;\">\n",
              "      <th></th>\n",
              "      <th>Rank</th>\n",
              "      <th>Name</th>\n",
              "      <th>Platform</th>\n",
              "      <th>Year</th>\n",
              "      <th>Genre</th>\n",
              "      <th>Publisher</th>\n",
              "      <th>NA_Sales</th>\n",
              "      <th>EU_Sales</th>\n",
              "      <th>JP_Sales</th>\n",
              "      <th>Other_Sales</th>\n",
              "      <th>Global_Sales</th>\n",
              "    </tr>\n",
              "  </thead>\n",
              "  <tbody>\n",
              "    <tr>\n",
              "      <th>0</th>\n",
              "      <td>1</td>\n",
              "      <td>Wii Sports</td>\n",
              "      <td>Wii</td>\n",
              "      <td>2006.0</td>\n",
              "      <td>Sports</td>\n",
              "      <td>Nintendo</td>\n",
              "      <td>41.49</td>\n",
              "      <td>29.02</td>\n",
              "      <td>3.77</td>\n",
              "      <td>8.46</td>\n",
              "      <td>82.74</td>\n",
              "    </tr>\n",
              "    <tr>\n",
              "      <th>1</th>\n",
              "      <td>2</td>\n",
              "      <td>Super Mario Bros.</td>\n",
              "      <td>NES</td>\n",
              "      <td>1985.0</td>\n",
              "      <td>Platform</td>\n",
              "      <td>Nintendo</td>\n",
              "      <td>29.08</td>\n",
              "      <td>3.58</td>\n",
              "      <td>6.81</td>\n",
              "      <td>0.77</td>\n",
              "      <td>40.24</td>\n",
              "    </tr>\n",
              "    <tr>\n",
              "      <th>2</th>\n",
              "      <td>3</td>\n",
              "      <td>Mario Kart Wii</td>\n",
              "      <td>Wii</td>\n",
              "      <td>2008.0</td>\n",
              "      <td>Racing</td>\n",
              "      <td>Nintendo</td>\n",
              "      <td>15.85</td>\n",
              "      <td>12.88</td>\n",
              "      <td>3.79</td>\n",
              "      <td>3.31</td>\n",
              "      <td>35.82</td>\n",
              "    </tr>\n",
              "    <tr>\n",
              "      <th>3</th>\n",
              "      <td>4</td>\n",
              "      <td>Wii Sports Resort</td>\n",
              "      <td>Wii</td>\n",
              "      <td>2009.0</td>\n",
              "      <td>Sports</td>\n",
              "      <td>Nintendo</td>\n",
              "      <td>15.75</td>\n",
              "      <td>11.01</td>\n",
              "      <td>3.28</td>\n",
              "      <td>2.96</td>\n",
              "      <td>33.00</td>\n",
              "    </tr>\n",
              "    <tr>\n",
              "      <th>4</th>\n",
              "      <td>5</td>\n",
              "      <td>Pokemon Red/Pokemon Blue</td>\n",
              "      <td>GB</td>\n",
              "      <td>1996.0</td>\n",
              "      <td>Role-Playing</td>\n",
              "      <td>Nintendo</td>\n",
              "      <td>11.27</td>\n",
              "      <td>8.89</td>\n",
              "      <td>10.22</td>\n",
              "      <td>1.00</td>\n",
              "      <td>31.37</td>\n",
              "    </tr>\n",
              "  </tbody>\n",
              "</table>\n",
              "</div>"
            ]
          },
          "metadata": {
            "tags": []
          },
          "execution_count": 3
        }
      ]
    },
    {
      "cell_type": "code",
      "metadata": {
        "trusted": true,
        "id": "tANinN2fKHaH",
        "colab_type": "code",
        "colab": {},
        "outputId": "4970b4c9-3014-401b-e7d1-13b9d67ba89d"
      },
      "source": [
        "df.shape"
      ],
      "execution_count": null,
      "outputs": [
        {
          "output_type": "execute_result",
          "data": {
            "text/plain": [
              "(16598, 11)"
            ]
          },
          "metadata": {
            "tags": []
          },
          "execution_count": 4
        }
      ]
    },
    {
      "cell_type": "code",
      "metadata": {
        "trusted": true,
        "id": "EwRt02EZKHaK",
        "colab_type": "code",
        "colab": {},
        "outputId": "a311b44b-6c32-4b97-dfff-fbe6dbab5fad"
      },
      "source": [
        "df.info()"
      ],
      "execution_count": null,
      "outputs": [
        {
          "output_type": "stream",
          "text": [
            "<class 'pandas.core.frame.DataFrame'>\n",
            "RangeIndex: 16598 entries, 0 to 16597\n",
            "Data columns (total 11 columns):\n",
            " #   Column        Non-Null Count  Dtype  \n",
            "---  ------        --------------  -----  \n",
            " 0   Rank          16598 non-null  int64  \n",
            " 1   Name          16598 non-null  object \n",
            " 2   Platform      16598 non-null  object \n",
            " 3   Year          16327 non-null  float64\n",
            " 4   Genre         16598 non-null  object \n",
            " 5   Publisher     16540 non-null  object \n",
            " 6   NA_Sales      16598 non-null  float64\n",
            " 7   EU_Sales      16598 non-null  float64\n",
            " 8   JP_Sales      16598 non-null  float64\n",
            " 9   Other_Sales   16598 non-null  float64\n",
            " 10  Global_Sales  16598 non-null  float64\n",
            "dtypes: float64(6), int64(1), object(4)\n",
            "memory usage: 1.4+ MB\n"
          ],
          "name": "stdout"
        }
      ]
    },
    {
      "cell_type": "code",
      "metadata": {
        "trusted": true,
        "id": "t2ZHZJulKHaN",
        "colab_type": "code",
        "colab": {},
        "outputId": "e9e60ed6-d25f-4ada-85bb-276324b2b499"
      },
      "source": [
        "len(df.Platform.unique())"
      ],
      "execution_count": null,
      "outputs": [
        {
          "output_type": "execute_result",
          "data": {
            "text/plain": [
              "31"
            ]
          },
          "metadata": {
            "tags": []
          },
          "execution_count": 6
        }
      ]
    },
    {
      "cell_type": "code",
      "metadata": {
        "trusted": true,
        "id": "hImFmWFPKHaP",
        "colab_type": "code",
        "colab": {},
        "outputId": "e6172c08-9365-4f45-b6d7-bbdb339db76e"
      },
      "source": [
        "df[df.Year <= 1980]"
      ],
      "execution_count": null,
      "outputs": [
        {
          "output_type": "execute_result",
          "data": {
            "text/plain": [
              "      Rank             Name Platform    Year     Genre   Publisher  NA_Sales  \\\n",
              "258    259        Asteroids     2600  1980.0   Shooter       Atari      4.00   \n",
              "544    545  Missile Command     2600  1980.0   Shooter       Atari      2.56   \n",
              "1766  1768          Kaboom!     2600  1980.0      Misc  Activision      1.07   \n",
              "1969  1971         Defender     2600  1980.0      Misc       Atari      0.99   \n",
              "2669  2671           Boxing     2600  1980.0  Fighting  Activision      0.72   \n",
              "4025  4027       Ice Hockey     2600  1980.0    Sports  Activision      0.46   \n",
              "5366  5368          Freeway     2600  1980.0    Action  Activision      0.32   \n",
              "6317  6319           Bridge     2600  1980.0      Misc  Activision      0.25   \n",
              "6896  6898         Checkers     2600  1980.0      Misc       Atari      0.22   \n",
              "\n",
              "      EU_Sales  JP_Sales  Other_Sales  Global_Sales  \n",
              "258       0.26       0.0         0.05          4.31  \n",
              "544       0.17       0.0         0.03          2.76  \n",
              "1766      0.07       0.0         0.01          1.15  \n",
              "1969      0.05       0.0         0.01          1.05  \n",
              "2669      0.04       0.0         0.01          0.77  \n",
              "4025      0.03       0.0         0.01          0.49  \n",
              "5366      0.02       0.0         0.00          0.34  \n",
              "6317      0.02       0.0         0.00          0.27  \n",
              "6896      0.01       0.0         0.00          0.24  "
            ],
            "text/html": [
              "<div>\n",
              "<style scoped>\n",
              "    .dataframe tbody tr th:only-of-type {\n",
              "        vertical-align: middle;\n",
              "    }\n",
              "\n",
              "    .dataframe tbody tr th {\n",
              "        vertical-align: top;\n",
              "    }\n",
              "\n",
              "    .dataframe thead th {\n",
              "        text-align: right;\n",
              "    }\n",
              "</style>\n",
              "<table border=\"1\" class=\"dataframe\">\n",
              "  <thead>\n",
              "    <tr style=\"text-align: right;\">\n",
              "      <th></th>\n",
              "      <th>Rank</th>\n",
              "      <th>Name</th>\n",
              "      <th>Platform</th>\n",
              "      <th>Year</th>\n",
              "      <th>Genre</th>\n",
              "      <th>Publisher</th>\n",
              "      <th>NA_Sales</th>\n",
              "      <th>EU_Sales</th>\n",
              "      <th>JP_Sales</th>\n",
              "      <th>Other_Sales</th>\n",
              "      <th>Global_Sales</th>\n",
              "    </tr>\n",
              "  </thead>\n",
              "  <tbody>\n",
              "    <tr>\n",
              "      <th>258</th>\n",
              "      <td>259</td>\n",
              "      <td>Asteroids</td>\n",
              "      <td>2600</td>\n",
              "      <td>1980.0</td>\n",
              "      <td>Shooter</td>\n",
              "      <td>Atari</td>\n",
              "      <td>4.00</td>\n",
              "      <td>0.26</td>\n",
              "      <td>0.0</td>\n",
              "      <td>0.05</td>\n",
              "      <td>4.31</td>\n",
              "    </tr>\n",
              "    <tr>\n",
              "      <th>544</th>\n",
              "      <td>545</td>\n",
              "      <td>Missile Command</td>\n",
              "      <td>2600</td>\n",
              "      <td>1980.0</td>\n",
              "      <td>Shooter</td>\n",
              "      <td>Atari</td>\n",
              "      <td>2.56</td>\n",
              "      <td>0.17</td>\n",
              "      <td>0.0</td>\n",
              "      <td>0.03</td>\n",
              "      <td>2.76</td>\n",
              "    </tr>\n",
              "    <tr>\n",
              "      <th>1766</th>\n",
              "      <td>1768</td>\n",
              "      <td>Kaboom!</td>\n",
              "      <td>2600</td>\n",
              "      <td>1980.0</td>\n",
              "      <td>Misc</td>\n",
              "      <td>Activision</td>\n",
              "      <td>1.07</td>\n",
              "      <td>0.07</td>\n",
              "      <td>0.0</td>\n",
              "      <td>0.01</td>\n",
              "      <td>1.15</td>\n",
              "    </tr>\n",
              "    <tr>\n",
              "      <th>1969</th>\n",
              "      <td>1971</td>\n",
              "      <td>Defender</td>\n",
              "      <td>2600</td>\n",
              "      <td>1980.0</td>\n",
              "      <td>Misc</td>\n",
              "      <td>Atari</td>\n",
              "      <td>0.99</td>\n",
              "      <td>0.05</td>\n",
              "      <td>0.0</td>\n",
              "      <td>0.01</td>\n",
              "      <td>1.05</td>\n",
              "    </tr>\n",
              "    <tr>\n",
              "      <th>2669</th>\n",
              "      <td>2671</td>\n",
              "      <td>Boxing</td>\n",
              "      <td>2600</td>\n",
              "      <td>1980.0</td>\n",
              "      <td>Fighting</td>\n",
              "      <td>Activision</td>\n",
              "      <td>0.72</td>\n",
              "      <td>0.04</td>\n",
              "      <td>0.0</td>\n",
              "      <td>0.01</td>\n",
              "      <td>0.77</td>\n",
              "    </tr>\n",
              "    <tr>\n",
              "      <th>4025</th>\n",
              "      <td>4027</td>\n",
              "      <td>Ice Hockey</td>\n",
              "      <td>2600</td>\n",
              "      <td>1980.0</td>\n",
              "      <td>Sports</td>\n",
              "      <td>Activision</td>\n",
              "      <td>0.46</td>\n",
              "      <td>0.03</td>\n",
              "      <td>0.0</td>\n",
              "      <td>0.01</td>\n",
              "      <td>0.49</td>\n",
              "    </tr>\n",
              "    <tr>\n",
              "      <th>5366</th>\n",
              "      <td>5368</td>\n",
              "      <td>Freeway</td>\n",
              "      <td>2600</td>\n",
              "      <td>1980.0</td>\n",
              "      <td>Action</td>\n",
              "      <td>Activision</td>\n",
              "      <td>0.32</td>\n",
              "      <td>0.02</td>\n",
              "      <td>0.0</td>\n",
              "      <td>0.00</td>\n",
              "      <td>0.34</td>\n",
              "    </tr>\n",
              "    <tr>\n",
              "      <th>6317</th>\n",
              "      <td>6319</td>\n",
              "      <td>Bridge</td>\n",
              "      <td>2600</td>\n",
              "      <td>1980.0</td>\n",
              "      <td>Misc</td>\n",
              "      <td>Activision</td>\n",
              "      <td>0.25</td>\n",
              "      <td>0.02</td>\n",
              "      <td>0.0</td>\n",
              "      <td>0.00</td>\n",
              "      <td>0.27</td>\n",
              "    </tr>\n",
              "    <tr>\n",
              "      <th>6896</th>\n",
              "      <td>6898</td>\n",
              "      <td>Checkers</td>\n",
              "      <td>2600</td>\n",
              "      <td>1980.0</td>\n",
              "      <td>Misc</td>\n",
              "      <td>Atari</td>\n",
              "      <td>0.22</td>\n",
              "      <td>0.01</td>\n",
              "      <td>0.0</td>\n",
              "      <td>0.00</td>\n",
              "      <td>0.24</td>\n",
              "    </tr>\n",
              "  </tbody>\n",
              "</table>\n",
              "</div>"
            ]
          },
          "metadata": {
            "tags": []
          },
          "execution_count": 7
        }
      ]
    },
    {
      "cell_type": "code",
      "metadata": {
        "trusted": true,
        "id": "hqG-396VKHaS",
        "colab_type": "code",
        "colab": {},
        "outputId": "860f1a23-ea8c-4dd6-e729-92f95802b0d3"
      },
      "source": [
        "df.pivot_table(index='Platform', columns='Genre', values='Global_Sales', aggfunc='sum').dropna()"
      ],
      "execution_count": null,
      "outputs": [
        {
          "output_type": "execute_result",
          "data": {
            "text/plain": [
              "Genre     Action  Adventure  Fighting    Misc  Platform  Puzzle  Racing  \\\n",
              "Platform                                                                  \n",
              "3DS        57.02       4.81     10.46   10.48     32.23    5.57   14.49   \n",
              "DS        115.56      47.29      7.20  137.76     77.45   84.29   38.64   \n",
              "GBA        55.76      14.68      4.21   36.25     78.30   12.92   18.80   \n",
              "GC         37.84       5.93     18.43   16.73     28.66    4.70   21.89   \n",
              "N64        29.58       0.45     22.08   11.19     36.13    3.41   40.09   \n",
              "PC         31.53      10.09      0.27    8.56      0.49    0.92    4.06   \n",
              "PS        127.05      20.97     72.68   44.90     64.21   12.08  103.19   \n",
              "PS2       272.76      21.16     92.60  101.14     72.51    5.90  156.28   \n",
              "PS3       307.88      22.90     51.70   47.85     30.33    0.60   73.95   \n",
              "PS4        87.06       4.70      8.04    7.40      7.01    0.02   11.53   \n",
              "PSP        64.72      10.69     21.97   13.96     17.28    5.52   34.73   \n",
              "PSV        20.01       4.18      3.15    5.18      3.03    0.20    2.95   \n",
              "SAT         0.65       4.16      8.52    1.20      0.76    1.00    2.40   \n",
              "SNES       10.08       1.50     26.95    5.02     65.65    6.38   13.49   \n",
              "Wii       118.58      18.43     23.86  221.06     90.74   15.67   61.28   \n",
              "WiiU       19.35       0.17      6.36   12.23     21.24    1.33    7.77   \n",
              "X360      242.67      15.23     37.64   91.96     11.39    0.85   65.99   \n",
              "XB         49.28       3.06     13.55    9.58      9.66    0.42   31.49   \n",
              "\n",
              "Genre     Role-Playing  Shooter  Simulation  Sports  Strategy  \n",
              "Platform                                                       \n",
              "3DS              75.74     1.29       27.08    6.20      2.09  \n",
              "DS              126.85     8.20      132.03   31.83     15.39  \n",
              "GBA              64.21     3.60        5.91   16.41      7.45  \n",
              "GC               13.15    13.63        8.59   25.49      4.32  \n",
              "N64               3.36    19.27       10.19   32.80     10.33  \n",
              "PC               47.78    45.32       51.91   12.01     45.88  \n",
              "PS               78.30    39.31       25.33  120.97     21.67  \n",
              "PS2              93.50   108.57       42.66  273.41     15.15  \n",
              "PS3              75.30   196.04       10.79  135.56      4.94  \n",
              "PS4              25.77    75.32        0.77   50.07      0.41  \n",
              "PSP              49.05    19.77        6.28   41.69     10.62  \n",
              "PSV              13.39     4.57        0.08    4.88      0.31  \n",
              "SAT               3.76     3.98        1.13    2.79      3.24  \n",
              "SNES             36.43     6.07        5.63   17.87      4.98  \n",
              "Wii              14.06    28.77       36.97  292.06      5.23  \n",
              "WiiU              2.47     6.17        0.21    3.32      1.24  \n",
              "X360             71.98   278.55       14.45  139.12     10.13  \n",
              "XB               13.51    63.55        7.11   54.27      2.78  "
            ],
            "text/html": [
              "<div>\n",
              "<style scoped>\n",
              "    .dataframe tbody tr th:only-of-type {\n",
              "        vertical-align: middle;\n",
              "    }\n",
              "\n",
              "    .dataframe tbody tr th {\n",
              "        vertical-align: top;\n",
              "    }\n",
              "\n",
              "    .dataframe thead th {\n",
              "        text-align: right;\n",
              "    }\n",
              "</style>\n",
              "<table border=\"1\" class=\"dataframe\">\n",
              "  <thead>\n",
              "    <tr style=\"text-align: right;\">\n",
              "      <th>Genre</th>\n",
              "      <th>Action</th>\n",
              "      <th>Adventure</th>\n",
              "      <th>Fighting</th>\n",
              "      <th>Misc</th>\n",
              "      <th>Platform</th>\n",
              "      <th>Puzzle</th>\n",
              "      <th>Racing</th>\n",
              "      <th>Role-Playing</th>\n",
              "      <th>Shooter</th>\n",
              "      <th>Simulation</th>\n",
              "      <th>Sports</th>\n",
              "      <th>Strategy</th>\n",
              "    </tr>\n",
              "    <tr>\n",
              "      <th>Platform</th>\n",
              "      <th></th>\n",
              "      <th></th>\n",
              "      <th></th>\n",
              "      <th></th>\n",
              "      <th></th>\n",
              "      <th></th>\n",
              "      <th></th>\n",
              "      <th></th>\n",
              "      <th></th>\n",
              "      <th></th>\n",
              "      <th></th>\n",
              "      <th></th>\n",
              "    </tr>\n",
              "  </thead>\n",
              "  <tbody>\n",
              "    <tr>\n",
              "      <th>3DS</th>\n",
              "      <td>57.02</td>\n",
              "      <td>4.81</td>\n",
              "      <td>10.46</td>\n",
              "      <td>10.48</td>\n",
              "      <td>32.23</td>\n",
              "      <td>5.57</td>\n",
              "      <td>14.49</td>\n",
              "      <td>75.74</td>\n",
              "      <td>1.29</td>\n",
              "      <td>27.08</td>\n",
              "      <td>6.20</td>\n",
              "      <td>2.09</td>\n",
              "    </tr>\n",
              "    <tr>\n",
              "      <th>DS</th>\n",
              "      <td>115.56</td>\n",
              "      <td>47.29</td>\n",
              "      <td>7.20</td>\n",
              "      <td>137.76</td>\n",
              "      <td>77.45</td>\n",
              "      <td>84.29</td>\n",
              "      <td>38.64</td>\n",
              "      <td>126.85</td>\n",
              "      <td>8.20</td>\n",
              "      <td>132.03</td>\n",
              "      <td>31.83</td>\n",
              "      <td>15.39</td>\n",
              "    </tr>\n",
              "    <tr>\n",
              "      <th>GBA</th>\n",
              "      <td>55.76</td>\n",
              "      <td>14.68</td>\n",
              "      <td>4.21</td>\n",
              "      <td>36.25</td>\n",
              "      <td>78.30</td>\n",
              "      <td>12.92</td>\n",
              "      <td>18.80</td>\n",
              "      <td>64.21</td>\n",
              "      <td>3.60</td>\n",
              "      <td>5.91</td>\n",
              "      <td>16.41</td>\n",
              "      <td>7.45</td>\n",
              "    </tr>\n",
              "    <tr>\n",
              "      <th>GC</th>\n",
              "      <td>37.84</td>\n",
              "      <td>5.93</td>\n",
              "      <td>18.43</td>\n",
              "      <td>16.73</td>\n",
              "      <td>28.66</td>\n",
              "      <td>4.70</td>\n",
              "      <td>21.89</td>\n",
              "      <td>13.15</td>\n",
              "      <td>13.63</td>\n",
              "      <td>8.59</td>\n",
              "      <td>25.49</td>\n",
              "      <td>4.32</td>\n",
              "    </tr>\n",
              "    <tr>\n",
              "      <th>N64</th>\n",
              "      <td>29.58</td>\n",
              "      <td>0.45</td>\n",
              "      <td>22.08</td>\n",
              "      <td>11.19</td>\n",
              "      <td>36.13</td>\n",
              "      <td>3.41</td>\n",
              "      <td>40.09</td>\n",
              "      <td>3.36</td>\n",
              "      <td>19.27</td>\n",
              "      <td>10.19</td>\n",
              "      <td>32.80</td>\n",
              "      <td>10.33</td>\n",
              "    </tr>\n",
              "    <tr>\n",
              "      <th>PC</th>\n",
              "      <td>31.53</td>\n",
              "      <td>10.09</td>\n",
              "      <td>0.27</td>\n",
              "      <td>8.56</td>\n",
              "      <td>0.49</td>\n",
              "      <td>0.92</td>\n",
              "      <td>4.06</td>\n",
              "      <td>47.78</td>\n",
              "      <td>45.32</td>\n",
              "      <td>51.91</td>\n",
              "      <td>12.01</td>\n",
              "      <td>45.88</td>\n",
              "    </tr>\n",
              "    <tr>\n",
              "      <th>PS</th>\n",
              "      <td>127.05</td>\n",
              "      <td>20.97</td>\n",
              "      <td>72.68</td>\n",
              "      <td>44.90</td>\n",
              "      <td>64.21</td>\n",
              "      <td>12.08</td>\n",
              "      <td>103.19</td>\n",
              "      <td>78.30</td>\n",
              "      <td>39.31</td>\n",
              "      <td>25.33</td>\n",
              "      <td>120.97</td>\n",
              "      <td>21.67</td>\n",
              "    </tr>\n",
              "    <tr>\n",
              "      <th>PS2</th>\n",
              "      <td>272.76</td>\n",
              "      <td>21.16</td>\n",
              "      <td>92.60</td>\n",
              "      <td>101.14</td>\n",
              "      <td>72.51</td>\n",
              "      <td>5.90</td>\n",
              "      <td>156.28</td>\n",
              "      <td>93.50</td>\n",
              "      <td>108.57</td>\n",
              "      <td>42.66</td>\n",
              "      <td>273.41</td>\n",
              "      <td>15.15</td>\n",
              "    </tr>\n",
              "    <tr>\n",
              "      <th>PS3</th>\n",
              "      <td>307.88</td>\n",
              "      <td>22.90</td>\n",
              "      <td>51.70</td>\n",
              "      <td>47.85</td>\n",
              "      <td>30.33</td>\n",
              "      <td>0.60</td>\n",
              "      <td>73.95</td>\n",
              "      <td>75.30</td>\n",
              "      <td>196.04</td>\n",
              "      <td>10.79</td>\n",
              "      <td>135.56</td>\n",
              "      <td>4.94</td>\n",
              "    </tr>\n",
              "    <tr>\n",
              "      <th>PS4</th>\n",
              "      <td>87.06</td>\n",
              "      <td>4.70</td>\n",
              "      <td>8.04</td>\n",
              "      <td>7.40</td>\n",
              "      <td>7.01</td>\n",
              "      <td>0.02</td>\n",
              "      <td>11.53</td>\n",
              "      <td>25.77</td>\n",
              "      <td>75.32</td>\n",
              "      <td>0.77</td>\n",
              "      <td>50.07</td>\n",
              "      <td>0.41</td>\n",
              "    </tr>\n",
              "    <tr>\n",
              "      <th>PSP</th>\n",
              "      <td>64.72</td>\n",
              "      <td>10.69</td>\n",
              "      <td>21.97</td>\n",
              "      <td>13.96</td>\n",
              "      <td>17.28</td>\n",
              "      <td>5.52</td>\n",
              "      <td>34.73</td>\n",
              "      <td>49.05</td>\n",
              "      <td>19.77</td>\n",
              "      <td>6.28</td>\n",
              "      <td>41.69</td>\n",
              "      <td>10.62</td>\n",
              "    </tr>\n",
              "    <tr>\n",
              "      <th>PSV</th>\n",
              "      <td>20.01</td>\n",
              "      <td>4.18</td>\n",
              "      <td>3.15</td>\n",
              "      <td>5.18</td>\n",
              "      <td>3.03</td>\n",
              "      <td>0.20</td>\n",
              "      <td>2.95</td>\n",
              "      <td>13.39</td>\n",
              "      <td>4.57</td>\n",
              "      <td>0.08</td>\n",
              "      <td>4.88</td>\n",
              "      <td>0.31</td>\n",
              "    </tr>\n",
              "    <tr>\n",
              "      <th>SAT</th>\n",
              "      <td>0.65</td>\n",
              "      <td>4.16</td>\n",
              "      <td>8.52</td>\n",
              "      <td>1.20</td>\n",
              "      <td>0.76</td>\n",
              "      <td>1.00</td>\n",
              "      <td>2.40</td>\n",
              "      <td>3.76</td>\n",
              "      <td>3.98</td>\n",
              "      <td>1.13</td>\n",
              "      <td>2.79</td>\n",
              "      <td>3.24</td>\n",
              "    </tr>\n",
              "    <tr>\n",
              "      <th>SNES</th>\n",
              "      <td>10.08</td>\n",
              "      <td>1.50</td>\n",
              "      <td>26.95</td>\n",
              "      <td>5.02</td>\n",
              "      <td>65.65</td>\n",
              "      <td>6.38</td>\n",
              "      <td>13.49</td>\n",
              "      <td>36.43</td>\n",
              "      <td>6.07</td>\n",
              "      <td>5.63</td>\n",
              "      <td>17.87</td>\n",
              "      <td>4.98</td>\n",
              "    </tr>\n",
              "    <tr>\n",
              "      <th>Wii</th>\n",
              "      <td>118.58</td>\n",
              "      <td>18.43</td>\n",
              "      <td>23.86</td>\n",
              "      <td>221.06</td>\n",
              "      <td>90.74</td>\n",
              "      <td>15.67</td>\n",
              "      <td>61.28</td>\n",
              "      <td>14.06</td>\n",
              "      <td>28.77</td>\n",
              "      <td>36.97</td>\n",
              "      <td>292.06</td>\n",
              "      <td>5.23</td>\n",
              "    </tr>\n",
              "    <tr>\n",
              "      <th>WiiU</th>\n",
              "      <td>19.35</td>\n",
              "      <td>0.17</td>\n",
              "      <td>6.36</td>\n",
              "      <td>12.23</td>\n",
              "      <td>21.24</td>\n",
              "      <td>1.33</td>\n",
              "      <td>7.77</td>\n",
              "      <td>2.47</td>\n",
              "      <td>6.17</td>\n",
              "      <td>0.21</td>\n",
              "      <td>3.32</td>\n",
              "      <td>1.24</td>\n",
              "    </tr>\n",
              "    <tr>\n",
              "      <th>X360</th>\n",
              "      <td>242.67</td>\n",
              "      <td>15.23</td>\n",
              "      <td>37.64</td>\n",
              "      <td>91.96</td>\n",
              "      <td>11.39</td>\n",
              "      <td>0.85</td>\n",
              "      <td>65.99</td>\n",
              "      <td>71.98</td>\n",
              "      <td>278.55</td>\n",
              "      <td>14.45</td>\n",
              "      <td>139.12</td>\n",
              "      <td>10.13</td>\n",
              "    </tr>\n",
              "    <tr>\n",
              "      <th>XB</th>\n",
              "      <td>49.28</td>\n",
              "      <td>3.06</td>\n",
              "      <td>13.55</td>\n",
              "      <td>9.58</td>\n",
              "      <td>9.66</td>\n",
              "      <td>0.42</td>\n",
              "      <td>31.49</td>\n",
              "      <td>13.51</td>\n",
              "      <td>63.55</td>\n",
              "      <td>7.11</td>\n",
              "      <td>54.27</td>\n",
              "      <td>2.78</td>\n",
              "    </tr>\n",
              "  </tbody>\n",
              "</table>\n",
              "</div>"
            ]
          },
          "metadata": {
            "tags": []
          },
          "execution_count": 8
        }
      ]
    },
    {
      "cell_type": "code",
      "metadata": {
        "trusted": true,
        "id": "JV8X-_iDKHaV",
        "colab_type": "code",
        "colab": {},
        "outputId": "9025540d-f0c2-4c52-f69a-557a91c040a6"
      },
      "source": [
        "df.pivot_table(index='Publisher', values='Global_Sales', aggfunc='sum').sort_values(by='Global_Sales', ascending=False)"
      ],
      "execution_count": null,
      "outputs": [
        {
          "output_type": "execute_result",
          "data": {
            "text/plain": [
              "                             Global_Sales\n",
              "Publisher                                \n",
              "Nintendo                          1786.56\n",
              "Electronic Arts                   1110.32\n",
              "Activision                         727.46\n",
              "Sony Computer Entertainment        607.50\n",
              "Ubisoft                            474.72\n",
              "...                                   ...\n",
              "Ongakukan                            0.01\n",
              "Commseed                             0.01\n",
              "Takuyo                               0.01\n",
              "Boost On                             0.01\n",
              "Naxat Soft                           0.01\n",
              "\n",
              "[578 rows x 1 columns]"
            ],
            "text/html": [
              "<div>\n",
              "<style scoped>\n",
              "    .dataframe tbody tr th:only-of-type {\n",
              "        vertical-align: middle;\n",
              "    }\n",
              "\n",
              "    .dataframe tbody tr th {\n",
              "        vertical-align: top;\n",
              "    }\n",
              "\n",
              "    .dataframe thead th {\n",
              "        text-align: right;\n",
              "    }\n",
              "</style>\n",
              "<table border=\"1\" class=\"dataframe\">\n",
              "  <thead>\n",
              "    <tr style=\"text-align: right;\">\n",
              "      <th></th>\n",
              "      <th>Global_Sales</th>\n",
              "    </tr>\n",
              "    <tr>\n",
              "      <th>Publisher</th>\n",
              "      <th></th>\n",
              "    </tr>\n",
              "  </thead>\n",
              "  <tbody>\n",
              "    <tr>\n",
              "      <th>Nintendo</th>\n",
              "      <td>1786.56</td>\n",
              "    </tr>\n",
              "    <tr>\n",
              "      <th>Electronic Arts</th>\n",
              "      <td>1110.32</td>\n",
              "    </tr>\n",
              "    <tr>\n",
              "      <th>Activision</th>\n",
              "      <td>727.46</td>\n",
              "    </tr>\n",
              "    <tr>\n",
              "      <th>Sony Computer Entertainment</th>\n",
              "      <td>607.50</td>\n",
              "    </tr>\n",
              "    <tr>\n",
              "      <th>Ubisoft</th>\n",
              "      <td>474.72</td>\n",
              "    </tr>\n",
              "    <tr>\n",
              "      <th>...</th>\n",
              "      <td>...</td>\n",
              "    </tr>\n",
              "    <tr>\n",
              "      <th>Ongakukan</th>\n",
              "      <td>0.01</td>\n",
              "    </tr>\n",
              "    <tr>\n",
              "      <th>Commseed</th>\n",
              "      <td>0.01</td>\n",
              "    </tr>\n",
              "    <tr>\n",
              "      <th>Takuyo</th>\n",
              "      <td>0.01</td>\n",
              "    </tr>\n",
              "    <tr>\n",
              "      <th>Boost On</th>\n",
              "      <td>0.01</td>\n",
              "    </tr>\n",
              "    <tr>\n",
              "      <th>Naxat Soft</th>\n",
              "      <td>0.01</td>\n",
              "    </tr>\n",
              "  </tbody>\n",
              "</table>\n",
              "<p>578 rows × 1 columns</p>\n",
              "</div>"
            ]
          },
          "metadata": {
            "tags": []
          },
          "execution_count": 9
        }
      ]
    },
    {
      "cell_type": "code",
      "metadata": {
        "trusted": true,
        "id": "VDIQmR_xKHaX",
        "colab_type": "code",
        "colab": {},
        "outputId": "47bd864e-ebac-406d-ff16-5bdf51c7e5bd"
      },
      "source": [
        "df.pivot_table(index=['Platform'], values='Global_Sales', aggfunc='sum').sort_values(by='Global_Sales', ascending=False).head()"
      ],
      "execution_count": null,
      "outputs": [
        {
          "output_type": "execute_result",
          "data": {
            "text/plain": [
              "          Global_Sales\n",
              "Platform              \n",
              "PS2            1255.64\n",
              "X360            979.96\n",
              "PS3             957.84\n",
              "Wii             926.71\n",
              "DS              822.49"
            ],
            "text/html": [
              "<div>\n",
              "<style scoped>\n",
              "    .dataframe tbody tr th:only-of-type {\n",
              "        vertical-align: middle;\n",
              "    }\n",
              "\n",
              "    .dataframe tbody tr th {\n",
              "        vertical-align: top;\n",
              "    }\n",
              "\n",
              "    .dataframe thead th {\n",
              "        text-align: right;\n",
              "    }\n",
              "</style>\n",
              "<table border=\"1\" class=\"dataframe\">\n",
              "  <thead>\n",
              "    <tr style=\"text-align: right;\">\n",
              "      <th></th>\n",
              "      <th>Global_Sales</th>\n",
              "    </tr>\n",
              "    <tr>\n",
              "      <th>Platform</th>\n",
              "      <th></th>\n",
              "    </tr>\n",
              "  </thead>\n",
              "  <tbody>\n",
              "    <tr>\n",
              "      <th>PS2</th>\n",
              "      <td>1255.64</td>\n",
              "    </tr>\n",
              "    <tr>\n",
              "      <th>X360</th>\n",
              "      <td>979.96</td>\n",
              "    </tr>\n",
              "    <tr>\n",
              "      <th>PS3</th>\n",
              "      <td>957.84</td>\n",
              "    </tr>\n",
              "    <tr>\n",
              "      <th>Wii</th>\n",
              "      <td>926.71</td>\n",
              "    </tr>\n",
              "    <tr>\n",
              "      <th>DS</th>\n",
              "      <td>822.49</td>\n",
              "    </tr>\n",
              "  </tbody>\n",
              "</table>\n",
              "</div>"
            ]
          },
          "metadata": {
            "tags": []
          },
          "execution_count": 10
        }
      ]
    },
    {
      "cell_type": "code",
      "metadata": {
        "trusted": true,
        "id": "HUeNyvYdKHaa",
        "colab_type": "code",
        "colab": {},
        "outputId": "e0e25e02-cbab-43c3-b61a-9c434a154933"
      },
      "source": [
        "# Global sales drop after 2010...little to no data after 2016\n",
        "df.pivot_table(index=['Year'], values='Global_Sales', aggfunc='sum').sort_values(by='Year', ascending=False)"
      ],
      "execution_count": null,
      "outputs": [
        {
          "output_type": "execute_result",
          "data": {
            "text/plain": [
              "        Global_Sales\n",
              "Year                \n",
              "2020.0          0.29\n",
              "2017.0          0.05\n",
              "2016.0         70.93\n",
              "2015.0        264.44\n",
              "2014.0        337.05\n",
              "2013.0        368.11\n",
              "2012.0        363.54\n",
              "2011.0        515.99\n",
              "2010.0        600.45\n",
              "2009.0        667.30\n",
              "2008.0        678.90\n",
              "2007.0        611.13\n",
              "2006.0        521.04\n",
              "2005.0        459.94\n",
              "2004.0        419.31\n",
              "2003.0        357.85\n",
              "2002.0        395.52\n",
              "2001.0        331.47\n",
              "2000.0        201.56\n",
              "1999.0        251.27\n",
              "1998.0        256.47\n",
              "1997.0        200.98\n",
              "1996.0        199.15\n",
              "1995.0         88.11\n",
              "1994.0         79.17\n",
              "1993.0         45.98\n",
              "1992.0         76.16\n",
              "1991.0         32.23\n",
              "1990.0         49.39\n",
              "1989.0         73.45\n",
              "1988.0         47.22\n",
              "1987.0         21.74\n",
              "1986.0         37.07\n",
              "1985.0         53.94\n",
              "1984.0         50.36\n",
              "1983.0         16.79\n",
              "1982.0         28.86\n",
              "1981.0         35.77\n",
              "1980.0         11.38"
            ],
            "text/html": [
              "<div>\n",
              "<style scoped>\n",
              "    .dataframe tbody tr th:only-of-type {\n",
              "        vertical-align: middle;\n",
              "    }\n",
              "\n",
              "    .dataframe tbody tr th {\n",
              "        vertical-align: top;\n",
              "    }\n",
              "\n",
              "    .dataframe thead th {\n",
              "        text-align: right;\n",
              "    }\n",
              "</style>\n",
              "<table border=\"1\" class=\"dataframe\">\n",
              "  <thead>\n",
              "    <tr style=\"text-align: right;\">\n",
              "      <th></th>\n",
              "      <th>Global_Sales</th>\n",
              "    </tr>\n",
              "    <tr>\n",
              "      <th>Year</th>\n",
              "      <th></th>\n",
              "    </tr>\n",
              "  </thead>\n",
              "  <tbody>\n",
              "    <tr>\n",
              "      <th>2020.0</th>\n",
              "      <td>0.29</td>\n",
              "    </tr>\n",
              "    <tr>\n",
              "      <th>2017.0</th>\n",
              "      <td>0.05</td>\n",
              "    </tr>\n",
              "    <tr>\n",
              "      <th>2016.0</th>\n",
              "      <td>70.93</td>\n",
              "    </tr>\n",
              "    <tr>\n",
              "      <th>2015.0</th>\n",
              "      <td>264.44</td>\n",
              "    </tr>\n",
              "    <tr>\n",
              "      <th>2014.0</th>\n",
              "      <td>337.05</td>\n",
              "    </tr>\n",
              "    <tr>\n",
              "      <th>2013.0</th>\n",
              "      <td>368.11</td>\n",
              "    </tr>\n",
              "    <tr>\n",
              "      <th>2012.0</th>\n",
              "      <td>363.54</td>\n",
              "    </tr>\n",
              "    <tr>\n",
              "      <th>2011.0</th>\n",
              "      <td>515.99</td>\n",
              "    </tr>\n",
              "    <tr>\n",
              "      <th>2010.0</th>\n",
              "      <td>600.45</td>\n",
              "    </tr>\n",
              "    <tr>\n",
              "      <th>2009.0</th>\n",
              "      <td>667.30</td>\n",
              "    </tr>\n",
              "    <tr>\n",
              "      <th>2008.0</th>\n",
              "      <td>678.90</td>\n",
              "    </tr>\n",
              "    <tr>\n",
              "      <th>2007.0</th>\n",
              "      <td>611.13</td>\n",
              "    </tr>\n",
              "    <tr>\n",
              "      <th>2006.0</th>\n",
              "      <td>521.04</td>\n",
              "    </tr>\n",
              "    <tr>\n",
              "      <th>2005.0</th>\n",
              "      <td>459.94</td>\n",
              "    </tr>\n",
              "    <tr>\n",
              "      <th>2004.0</th>\n",
              "      <td>419.31</td>\n",
              "    </tr>\n",
              "    <tr>\n",
              "      <th>2003.0</th>\n",
              "      <td>357.85</td>\n",
              "    </tr>\n",
              "    <tr>\n",
              "      <th>2002.0</th>\n",
              "      <td>395.52</td>\n",
              "    </tr>\n",
              "    <tr>\n",
              "      <th>2001.0</th>\n",
              "      <td>331.47</td>\n",
              "    </tr>\n",
              "    <tr>\n",
              "      <th>2000.0</th>\n",
              "      <td>201.56</td>\n",
              "    </tr>\n",
              "    <tr>\n",
              "      <th>1999.0</th>\n",
              "      <td>251.27</td>\n",
              "    </tr>\n",
              "    <tr>\n",
              "      <th>1998.0</th>\n",
              "      <td>256.47</td>\n",
              "    </tr>\n",
              "    <tr>\n",
              "      <th>1997.0</th>\n",
              "      <td>200.98</td>\n",
              "    </tr>\n",
              "    <tr>\n",
              "      <th>1996.0</th>\n",
              "      <td>199.15</td>\n",
              "    </tr>\n",
              "    <tr>\n",
              "      <th>1995.0</th>\n",
              "      <td>88.11</td>\n",
              "    </tr>\n",
              "    <tr>\n",
              "      <th>1994.0</th>\n",
              "      <td>79.17</td>\n",
              "    </tr>\n",
              "    <tr>\n",
              "      <th>1993.0</th>\n",
              "      <td>45.98</td>\n",
              "    </tr>\n",
              "    <tr>\n",
              "      <th>1992.0</th>\n",
              "      <td>76.16</td>\n",
              "    </tr>\n",
              "    <tr>\n",
              "      <th>1991.0</th>\n",
              "      <td>32.23</td>\n",
              "    </tr>\n",
              "    <tr>\n",
              "      <th>1990.0</th>\n",
              "      <td>49.39</td>\n",
              "    </tr>\n",
              "    <tr>\n",
              "      <th>1989.0</th>\n",
              "      <td>73.45</td>\n",
              "    </tr>\n",
              "    <tr>\n",
              "      <th>1988.0</th>\n",
              "      <td>47.22</td>\n",
              "    </tr>\n",
              "    <tr>\n",
              "      <th>1987.0</th>\n",
              "      <td>21.74</td>\n",
              "    </tr>\n",
              "    <tr>\n",
              "      <th>1986.0</th>\n",
              "      <td>37.07</td>\n",
              "    </tr>\n",
              "    <tr>\n",
              "      <th>1985.0</th>\n",
              "      <td>53.94</td>\n",
              "    </tr>\n",
              "    <tr>\n",
              "      <th>1984.0</th>\n",
              "      <td>50.36</td>\n",
              "    </tr>\n",
              "    <tr>\n",
              "      <th>1983.0</th>\n",
              "      <td>16.79</td>\n",
              "    </tr>\n",
              "    <tr>\n",
              "      <th>1982.0</th>\n",
              "      <td>28.86</td>\n",
              "    </tr>\n",
              "    <tr>\n",
              "      <th>1981.0</th>\n",
              "      <td>35.77</td>\n",
              "    </tr>\n",
              "    <tr>\n",
              "      <th>1980.0</th>\n",
              "      <td>11.38</td>\n",
              "    </tr>\n",
              "  </tbody>\n",
              "</table>\n",
              "</div>"
            ]
          },
          "metadata": {
            "tags": []
          },
          "execution_count": 11
        }
      ]
    },
    {
      "cell_type": "code",
      "metadata": {
        "trusted": true,
        "id": "DZjwJOeQKHad",
        "colab_type": "code",
        "colab": {},
        "outputId": "981131d1-05c6-4052-f1d8-cf7b9862bee7"
      },
      "source": [
        "len(set(df[df['Year'] == 2015]['Name']))"
      ],
      "execution_count": null,
      "outputs": [
        {
          "output_type": "execute_result",
          "data": {
            "text/plain": [
              "364"
            ]
          },
          "metadata": {
            "tags": []
          },
          "execution_count": 12
        }
      ]
    },
    {
      "cell_type": "code",
      "metadata": {
        "trusted": true,
        "id": "qPM1svQLKHaf",
        "colab_type": "code",
        "colab": {},
        "outputId": "5b62c14c-b4ec-496a-d71c-c39f6f441f0b"
      },
      "source": [
        "# confirmed num of game sales reported quickly dropped off, peaking 2009-2010\n",
        "len(set(df[df['Year']==2010]['Name']))"
      ],
      "execution_count": null,
      "outputs": [
        {
          "output_type": "execute_result",
          "data": {
            "text/plain": [
              "903"
            ]
          },
          "metadata": {
            "tags": []
          },
          "execution_count": 13
        }
      ]
    },
    {
      "cell_type": "code",
      "metadata": {
        "trusted": true,
        "id": "YwCSYlVHKHai",
        "colab_type": "code",
        "colab": {}
      },
      "source": [
        "# dropping rows after 2010\n",
        "df = df[df['Year']<=2010]"
      ],
      "execution_count": null,
      "outputs": []
    },
    {
      "cell_type": "code",
      "metadata": {
        "trusted": true,
        "id": "1iaiCMr1KHak",
        "colab_type": "code",
        "colab": {},
        "outputId": "adf42617-7fe7-4005-bf61-2caa6fc951a3"
      },
      "source": [
        "# pivot again without dropped data, using groupby instead of pivot table\n",
        "df.groupby('Platform').agg({'Global_Sales':'sum'}).sort_values('Global_Sales', ascending=False).head()"
      ],
      "execution_count": null,
      "outputs": [
        {
          "output_type": "execute_result",
          "data": {
            "text/plain": [
              "          Global_Sales\n",
              "Platform              \n",
              "PS2            1232.99\n",
              "Wii             809.28\n",
              "DS              777.25\n",
              "PS              727.39\n",
              "X360            583.70"
            ],
            "text/html": [
              "<div>\n",
              "<style scoped>\n",
              "    .dataframe tbody tr th:only-of-type {\n",
              "        vertical-align: middle;\n",
              "    }\n",
              "\n",
              "    .dataframe tbody tr th {\n",
              "        vertical-align: top;\n",
              "    }\n",
              "\n",
              "    .dataframe thead th {\n",
              "        text-align: right;\n",
              "    }\n",
              "</style>\n",
              "<table border=\"1\" class=\"dataframe\">\n",
              "  <thead>\n",
              "    <tr style=\"text-align: right;\">\n",
              "      <th></th>\n",
              "      <th>Global_Sales</th>\n",
              "    </tr>\n",
              "    <tr>\n",
              "      <th>Platform</th>\n",
              "      <th></th>\n",
              "    </tr>\n",
              "  </thead>\n",
              "  <tbody>\n",
              "    <tr>\n",
              "      <th>PS2</th>\n",
              "      <td>1232.99</td>\n",
              "    </tr>\n",
              "    <tr>\n",
              "      <th>Wii</th>\n",
              "      <td>809.28</td>\n",
              "    </tr>\n",
              "    <tr>\n",
              "      <th>DS</th>\n",
              "      <td>777.25</td>\n",
              "    </tr>\n",
              "    <tr>\n",
              "      <th>PS</th>\n",
              "      <td>727.39</td>\n",
              "    </tr>\n",
              "    <tr>\n",
              "      <th>X360</th>\n",
              "      <td>583.70</td>\n",
              "    </tr>\n",
              "  </tbody>\n",
              "</table>\n",
              "</div>"
            ]
          },
          "metadata": {
            "tags": []
          },
          "execution_count": 15
        }
      ]
    },
    {
      "cell_type": "code",
      "metadata": {
        "trusted": true,
        "id": "aunwDQ43KHam",
        "colab_type": "code",
        "colab": {},
        "outputId": "81ff78c2-8624-42b6-b059-56bf86e8f0d6"
      },
      "source": [
        "# best sales by platform genre\n",
        "df.groupby(['Platform','Genre']).agg({'Global_Sales':'sum'}).sort_values('Global_Sales', ascending=False).head()"
      ],
      "execution_count": null,
      "outputs": [
        {
          "output_type": "execute_result",
          "data": {
            "text/plain": [
              "                  Global_Sales\n",
              "Platform Genre                \n",
              "Wii      Sports         276.23\n",
              "PS2      Action         272.37\n",
              "         Sports         262.37\n",
              "Wii      Misc           173.54\n",
              "X360     Shooter        157.74"
            ],
            "text/html": [
              "<div>\n",
              "<style scoped>\n",
              "    .dataframe tbody tr th:only-of-type {\n",
              "        vertical-align: middle;\n",
              "    }\n",
              "\n",
              "    .dataframe tbody tr th {\n",
              "        vertical-align: top;\n",
              "    }\n",
              "\n",
              "    .dataframe thead th {\n",
              "        text-align: right;\n",
              "    }\n",
              "</style>\n",
              "<table border=\"1\" class=\"dataframe\">\n",
              "  <thead>\n",
              "    <tr style=\"text-align: right;\">\n",
              "      <th></th>\n",
              "      <th></th>\n",
              "      <th>Global_Sales</th>\n",
              "    </tr>\n",
              "    <tr>\n",
              "      <th>Platform</th>\n",
              "      <th>Genre</th>\n",
              "      <th></th>\n",
              "    </tr>\n",
              "  </thead>\n",
              "  <tbody>\n",
              "    <tr>\n",
              "      <th>Wii</th>\n",
              "      <th>Sports</th>\n",
              "      <td>276.23</td>\n",
              "    </tr>\n",
              "    <tr>\n",
              "      <th rowspan=\"2\" valign=\"top\">PS2</th>\n",
              "      <th>Action</th>\n",
              "      <td>272.37</td>\n",
              "    </tr>\n",
              "    <tr>\n",
              "      <th>Sports</th>\n",
              "      <td>262.37</td>\n",
              "    </tr>\n",
              "    <tr>\n",
              "      <th>Wii</th>\n",
              "      <th>Misc</th>\n",
              "      <td>173.54</td>\n",
              "    </tr>\n",
              "    <tr>\n",
              "      <th>X360</th>\n",
              "      <th>Shooter</th>\n",
              "      <td>157.74</td>\n",
              "    </tr>\n",
              "  </tbody>\n",
              "</table>\n",
              "</div>"
            ]
          },
          "metadata": {
            "tags": []
          },
          "execution_count": 16
        }
      ]
    },
    {
      "cell_type": "code",
      "metadata": {
        "trusted": true,
        "id": "hED-odbGKHap",
        "colab_type": "code",
        "colab": {},
        "outputId": "dc61544b-5938-4001-c784-be7f744593af"
      },
      "source": [
        "# best years for sales are 2006-2010\n",
        "df.groupby('Year').agg({'Global_Sales':'sum'}).sort_values('Global_Sales', ascending=False).head()"
      ],
      "execution_count": null,
      "outputs": [
        {
          "output_type": "execute_result",
          "data": {
            "text/plain": [
              "        Global_Sales\n",
              "Year                \n",
              "2008.0        678.90\n",
              "2009.0        667.30\n",
              "2007.0        611.13\n",
              "2010.0        600.45\n",
              "2006.0        521.04"
            ],
            "text/html": [
              "<div>\n",
              "<style scoped>\n",
              "    .dataframe tbody tr th:only-of-type {\n",
              "        vertical-align: middle;\n",
              "    }\n",
              "\n",
              "    .dataframe tbody tr th {\n",
              "        vertical-align: top;\n",
              "    }\n",
              "\n",
              "    .dataframe thead th {\n",
              "        text-align: right;\n",
              "    }\n",
              "</style>\n",
              "<table border=\"1\" class=\"dataframe\">\n",
              "  <thead>\n",
              "    <tr style=\"text-align: right;\">\n",
              "      <th></th>\n",
              "      <th>Global_Sales</th>\n",
              "    </tr>\n",
              "    <tr>\n",
              "      <th>Year</th>\n",
              "      <th></th>\n",
              "    </tr>\n",
              "  </thead>\n",
              "  <tbody>\n",
              "    <tr>\n",
              "      <th>2008.0</th>\n",
              "      <td>678.90</td>\n",
              "    </tr>\n",
              "    <tr>\n",
              "      <th>2009.0</th>\n",
              "      <td>667.30</td>\n",
              "    </tr>\n",
              "    <tr>\n",
              "      <th>2007.0</th>\n",
              "      <td>611.13</td>\n",
              "    </tr>\n",
              "    <tr>\n",
              "      <th>2010.0</th>\n",
              "      <td>600.45</td>\n",
              "    </tr>\n",
              "    <tr>\n",
              "      <th>2006.0</th>\n",
              "      <td>521.04</td>\n",
              "    </tr>\n",
              "  </tbody>\n",
              "</table>\n",
              "</div>"
            ]
          },
          "metadata": {
            "tags": []
          },
          "execution_count": 17
        }
      ]
    },
    {
      "cell_type": "code",
      "metadata": {
        "trusted": true,
        "id": "UZcAlfCqKHar",
        "colab_type": "code",
        "colab": {},
        "outputId": "b8dcef68-8014-4a6b-929f-34b2cce63632"
      },
      "source": [
        "# best selling games of all time\n",
        "df_games = df.groupby('Name').agg({'Global_Sales':'sum'})\n",
        "df_games.sort_values('Global_Sales', ascending=False).head()"
      ],
      "execution_count": null,
      "outputs": [
        {
          "output_type": "execute_result",
          "data": {
            "text/plain": [
              "                   Global_Sales\n",
              "Name                           \n",
              "Wii Sports                82.74\n",
              "Super Mario Bros.         45.31\n",
              "Tetris                    35.84\n",
              "Mario Kart Wii            35.82\n",
              "Wii Sports Resort         33.00"
            ],
            "text/html": [
              "<div>\n",
              "<style scoped>\n",
              "    .dataframe tbody tr th:only-of-type {\n",
              "        vertical-align: middle;\n",
              "    }\n",
              "\n",
              "    .dataframe tbody tr th {\n",
              "        vertical-align: top;\n",
              "    }\n",
              "\n",
              "    .dataframe thead th {\n",
              "        text-align: right;\n",
              "    }\n",
              "</style>\n",
              "<table border=\"1\" class=\"dataframe\">\n",
              "  <thead>\n",
              "    <tr style=\"text-align: right;\">\n",
              "      <th></th>\n",
              "      <th>Global_Sales</th>\n",
              "    </tr>\n",
              "    <tr>\n",
              "      <th>Name</th>\n",
              "      <th></th>\n",
              "    </tr>\n",
              "  </thead>\n",
              "  <tbody>\n",
              "    <tr>\n",
              "      <th>Wii Sports</th>\n",
              "      <td>82.74</td>\n",
              "    </tr>\n",
              "    <tr>\n",
              "      <th>Super Mario Bros.</th>\n",
              "      <td>45.31</td>\n",
              "    </tr>\n",
              "    <tr>\n",
              "      <th>Tetris</th>\n",
              "      <td>35.84</td>\n",
              "    </tr>\n",
              "    <tr>\n",
              "      <th>Mario Kart Wii</th>\n",
              "      <td>35.82</td>\n",
              "    </tr>\n",
              "    <tr>\n",
              "      <th>Wii Sports Resort</th>\n",
              "      <td>33.00</td>\n",
              "    </tr>\n",
              "  </tbody>\n",
              "</table>\n",
              "</div>"
            ]
          },
          "metadata": {
            "tags": []
          },
          "execution_count": 18
        }
      ]
    },
    {
      "cell_type": "code",
      "metadata": {
        "trusted": true,
        "id": "IrVCKDyDKHau",
        "colab_type": "code",
        "colab": {},
        "outputId": "9ff37761-f16f-4482-eb85-c70fd91206f7"
      },
      "source": [
        "# make new column to find num of games per year\n",
        "df_year = df.groupby('Year').agg({'Global_Sales':'sum'})\n",
        "df_year.sort_values('Global_Sales', ascending=False).head()"
      ],
      "execution_count": null,
      "outputs": [
        {
          "output_type": "execute_result",
          "data": {
            "text/plain": [
              "        Global_Sales\n",
              "Year                \n",
              "2008.0        678.90\n",
              "2009.0        667.30\n",
              "2007.0        611.13\n",
              "2010.0        600.45\n",
              "2006.0        521.04"
            ],
            "text/html": [
              "<div>\n",
              "<style scoped>\n",
              "    .dataframe tbody tr th:only-of-type {\n",
              "        vertical-align: middle;\n",
              "    }\n",
              "\n",
              "    .dataframe tbody tr th {\n",
              "        vertical-align: top;\n",
              "    }\n",
              "\n",
              "    .dataframe thead th {\n",
              "        text-align: right;\n",
              "    }\n",
              "</style>\n",
              "<table border=\"1\" class=\"dataframe\">\n",
              "  <thead>\n",
              "    <tr style=\"text-align: right;\">\n",
              "      <th></th>\n",
              "      <th>Global_Sales</th>\n",
              "    </tr>\n",
              "    <tr>\n",
              "      <th>Year</th>\n",
              "      <th></th>\n",
              "    </tr>\n",
              "  </thead>\n",
              "  <tbody>\n",
              "    <tr>\n",
              "      <th>2008.0</th>\n",
              "      <td>678.90</td>\n",
              "    </tr>\n",
              "    <tr>\n",
              "      <th>2009.0</th>\n",
              "      <td>667.30</td>\n",
              "    </tr>\n",
              "    <tr>\n",
              "      <th>2007.0</th>\n",
              "      <td>611.13</td>\n",
              "    </tr>\n",
              "    <tr>\n",
              "      <th>2010.0</th>\n",
              "      <td>600.45</td>\n",
              "    </tr>\n",
              "    <tr>\n",
              "      <th>2006.0</th>\n",
              "      <td>521.04</td>\n",
              "    </tr>\n",
              "  </tbody>\n",
              "</table>\n",
              "</div>"
            ]
          },
          "metadata": {
            "tags": []
          },
          "execution_count": 19
        }
      ]
    },
    {
      "cell_type": "code",
      "metadata": {
        "trusted": true,
        "id": "-3qg91c1KHax",
        "colab_type": "code",
        "colab": {},
        "outputId": "3d4e6dea-8418-4053-b4e8-4b89f587cc9f"
      },
      "source": [
        "# vg = sns.load_dataset(df)\n",
        "sns.jointplot(x='Global_Sales', y='Year', data=df)"
      ],
      "execution_count": null,
      "outputs": [
        {
          "output_type": "execute_result",
          "data": {
            "text/plain": [
              "<seaborn.axisgrid.JointGrid at 0x7faf05e20910>"
            ]
          },
          "metadata": {
            "tags": []
          },
          "execution_count": 20
        },
        {
          "output_type": "display_data",
          "data": {
            "text/plain": [
              "<Figure size 432x432 with 3 Axes>"
            ],
            "image/png": "[encoded data removed]"
          },
          "metadata": {
            "tags": [],
            "needs_background": "light"
          }
        }
      ]
    },
    {
      "cell_type": "code",
      "metadata": {
        "trusted": true,
        "id": "xrVCKd9MKHaz",
        "colab_type": "code",
        "colab": {},
        "outputId": "1970b2a1-d67a-4351-85a0-0c1a1ee2b882"
      },
      "source": [
        "sns.distplot(df['Year'], kde=False, bins=30, color='red')"
      ],
      "execution_count": null,
      "outputs": [
        {
          "output_type": "execute_result",
          "data": {
            "text/plain": [
              "<matplotlib.axes._subplots.AxesSubplot at 0x7faf05a1ff90>"
            ]
          },
          "metadata": {
            "tags": []
          },
          "execution_count": 21
        },
        {
          "output_type": "display_data",
          "data": {
            "text/plain": [
              "<Figure size 432x288 with 1 Axes>"
            ],
            "image/png": "[encoded data removed]"
          },
          "metadata": {
            "tags": [],
            "needs_background": "light"
          }
        }
      ]
    },
    {
      "cell_type": "code",
      "metadata": {
        "trusted": true,
        "id": "d1zxmMUPKHa1",
        "colab_type": "code",
        "colab": {},
        "outputId": "98832139-ee9d-43b3-d278-c428bf0b7a2b"
      },
      "source": [
        "# only correlations are country sales to global sales\n",
        "dfc = df.corr()\n",
        "sns.heatmap(dfc, cmap='coolwarm') "
      ],
      "execution_count": null,
      "outputs": [
        {
          "output_type": "execute_result",
          "data": {
            "text/plain": [
              "<matplotlib.axes._subplots.AxesSubplot at 0x7faf058a6090>"
            ]
          },
          "metadata": {
            "tags": []
          },
          "execution_count": 22
        },
        {
          "output_type": "display_data",
          "data": {
            "text/plain": [
              "<Figure size 432x288 with 2 Axes>"
            ],
            "image/png": "[encoded data removed]"
          },
          "metadata": {
            "tags": [],
            "needs_background": "light"
          }
        }
      ]
    },
    {
      "cell_type": "code",
      "metadata": {
        "trusted": true,
        "id": "QdCftwIMKHa4",
        "colab_type": "code",
        "colab": {},
        "outputId": "b47f7f51-a553-4be5-ae67-e21245b21e6c"
      },
      "source": [
        "plt.style.use('ggplot')\n",
        "df.plot.area(alpha=0.4)\n",
        "plt.show()"
      ],
      "execution_count": null,
      "outputs": [
        {
          "output_type": "display_data",
          "data": {
            "text/plain": [
              "<Figure size 432x288 with 1 Axes>"
            ],
            "image/png": "[encoded data removed]"
          },
          "metadata": {
            "tags": []
          }
        }
      ]
    },
    {
      "cell_type": "code",
      "metadata": {
        "trusted": true,
        "id": "M9uqW39-KHa6",
        "colab_type": "code",
        "colab": {}
      },
      "source": [
        ""
      ],
      "execution_count": null,
      "outputs": []
    },
    {
      "cell_type": "code",
      "metadata": {
        "trusted": true,
        "id": "jY0fYgdzKHa8",
        "colab_type": "code",
        "colab": {},
        "outputId": "49186312-b047-4a5c-9e82-98d245fbb822"
      },
      "source": [
        "df.plot.scatter(x='Global_Sales',y='Year', cmap='seismic')\n",
        "plt.show()"
      ],
      "execution_count": null,
      "outputs": [
        {
          "output_type": "display_data",
          "data": {
            "text/plain": [
              "<Figure size 432x288 with 2 Axes>"
            ],
            "image/png": "[encoded data removed]"
          },
          "metadata": {
            "tags": []
          }
        }
      ]
    },
    {
      "cell_type": "code",
      "metadata": {
        "trusted": true,
        "id": "Tp1HoB-oKHa_",
        "colab_type": "code",
        "colab": {},
        "outputId": "73755653-ed6f-4f94-d613-f46c73ccaa70"
      },
      "source": [
        "df['Year'].hist()"
      ],
      "execution_count": null,
      "outputs": [
        {
          "output_type": "execute_result",
          "data": {
            "text/plain": [
              "<matplotlib.axes._subplots.AxesSubplot at 0x7faf04c73c10>"
            ]
          },
          "metadata": {
            "tags": []
          },
          "execution_count": 29
        },
        {
          "output_type": "display_data",
          "data": {
            "text/plain": [
              "<Figure size 432x288 with 1 Axes>"
            ],
            "image/png": "[encoded data removed]"
          },
          "metadata": {
            "tags": []
          }
        }
      ]
    },
    {
      "cell_type": "code",
      "metadata": {
        "trusted": true,
        "id": "f9_utaBxKHbB",
        "colab_type": "code",
        "colab": {},
        "outputId": "fdbd9fc2-9d20-43b1-ea94-18bd304ddaa9"
      },
      "source": [
        "games_per_year = df.groupby('Year')['Name'].nunique()\n",
        "games_per_year"
      ],
      "execution_count": null,
      "outputs": [
        {
          "output_type": "execute_result",
          "data": {
            "text/plain": [
              "Year\n",
              "1980.0       9\n",
              "1981.0      46\n",
              "1982.0      36\n",
              "1983.0      17\n",
              "1984.0      14\n",
              "1985.0      14\n",
              "1986.0      21\n",
              "1987.0      16\n",
              "1988.0      15\n",
              "1989.0      17\n",
              "1990.0      16\n",
              "1991.0      40\n",
              "1992.0      41\n",
              "1993.0      59\n",
              "1994.0     117\n",
              "1995.0     215\n",
              "1996.0     258\n",
              "1997.0     282\n",
              "1998.0     364\n",
              "1999.0     326\n",
              "2000.0     324\n",
              "2001.0     428\n",
              "2002.0     631\n",
              "2003.0     546\n",
              "2004.0     551\n",
              "2005.0     659\n",
              "2006.0     775\n",
              "2007.0     887\n",
              "2008.0    1039\n",
              "2009.0    1003\n",
              "2010.0     903\n",
              "Name: Name, dtype: int64"
            ]
          },
          "metadata": {
            "tags": []
          },
          "execution_count": 46
        }
      ]
    },
    {
      "cell_type": "code",
      "metadata": {
        "trusted": true,
        "id": "WIYJCa8OKHbD",
        "colab_type": "code",
        "colab": {},
        "outputId": "ac7f984c-24af-4190-9413-2f7a2cc00919"
      },
      "source": [
        "ax = sns.scatterplot(x=df.Year, y=df.Publisher,\n",
        "                     hue=games_per_year, size=games_per_year, sizes=(20, 400), legend=False)"
      ],
      "execution_count": null,
      "outputs": [
        {
          "output_type": "display_data",
          "data": {
            "text/plain": [
              "<Figure size 432x288 with 1 Axes>"
            ],
            "image/png": "[encoded data removed]"
          },
          "metadata": {
            "tags": []
          }
        }
      ]
    },
    {
      "cell_type": "code",
      "metadata": {
        "trusted": true,
        "id": "8_6uhxnPKHbG",
        "colab_type": "code",
        "colab": {}
      },
      "source": [
        ""
      ],
      "execution_count": null,
      "outputs": []
    }
  ]
}